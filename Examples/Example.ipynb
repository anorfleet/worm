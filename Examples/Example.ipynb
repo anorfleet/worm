{
 "cells": [
  {
   "cell_type": "markdown",
   "metadata": {},
   "source": [
    "##Worm Example"
   ]
  },
  {
   "cell_type": "markdown",
   "metadata": {},
   "source": [
    "####Make Dummy Data"
   ]
  },
  {
   "cell_type": "code",
   "execution_count": 1,
   "metadata": {
    "collapsed": false
   },
   "outputs": [],
   "source": [
    "import pandas as pd\n",
    "import numpy as np\n",
    "length = 1000000\n",
    "width = length / 5\n",
    "dummy = np.random.randint(0, 10, length).reshape((width, 5))\n",
    "df = pd.DataFrame(dummy, columns=list('abcde'))"
   ]
  },
  {
   "cell_type": "markdown",
   "metadata": {},
   "source": [
    "####Create Collection"
   ]
  },
  {
   "cell_type": "code",
   "execution_count": 2,
   "metadata": {
    "collapsed": false
   },
   "outputs": [],
   "source": [
    "import worm"
   ]
  },
  {
   "cell_type": "code",
   "execution_count": 3,
   "metadata": {
    "collapsed": true
   },
   "outputs": [],
   "source": [
    "data = worm.Collection(df)"
   ]
  },
  {
   "cell_type": "code",
   "execution_count": 4,
   "metadata": {
    "collapsed": false
   },
   "outputs": [
    {
     "data": {
      "text/plain": [
       "[Record({'a': 8, 'c': 7, 'b': 7, 'e': 6, 'd': 3, 'index_record': 0}),\n",
       "Record({'a': 0, 'c': 3, 'b': 0, 'e': 2, 'd': 3, 'index_record': 1}),\n",
       "Record({'a': 3, 'c': 6, 'b': 3, 'e': 6, 'd': 1, 'index_record': 2}),\n",
       "Record({'a': 1, 'c': 7, 'b': 7, 'e': 3, 'd': 6, 'index_record': 3}),\n",
       "Record({'a': 4, 'c': 7, 'b': 5, 'e': 3, 'd': 4, 'index_record': 4}),\n",
       "...]\n",
       "\n",
       "Collection Object with\n",
       "200000 Record Objects"
      ]
     },
     "execution_count": 4,
     "metadata": {},
     "output_type": "execute_result"
    }
   ],
   "source": [
    "data"
   ]
  },
  {
   "cell_type": "markdown",
   "metadata": {},
   "source": [
    "####Define Functions"
   ]
  },
  {
   "cell_type": "code",
   "execution_count": 5,
   "metadata": {
    "collapsed": true
   },
   "outputs": [],
   "source": [
    "def square(record):\n",
    "    record.a = record.a ** 2\n",
    "    return record\n",
    "\n",
    "def cube(record):\n",
    "    record.b = record.b ** 3\n",
    "    return record"
   ]
  },
  {
   "cell_type": "markdown",
   "metadata": {},
   "source": [
    "####Push Functions to Collection"
   ]
  },
  {
   "cell_type": "code",
   "execution_count": 6,
   "metadata": {
    "collapsed": false
   },
   "outputs": [],
   "source": [
    "data = data.map(square).map(cube)"
   ]
  },
  {
   "cell_type": "markdown",
   "metadata": {},
   "source": [
    "####Collect Results"
   ]
  },
  {
   "cell_type": "code",
   "execution_count": 7,
   "metadata": {
    "collapsed": false
   },
   "outputs": [
    {
     "data": {
      "text/html": [
       "<table border=\"1\" class=\"dataframe\">\n",
       "  <thead>\n",
       "    <tr style=\"text-align: right;\">\n",
       "      <th></th>\n",
       "      <th>name</th>\n",
       "      <th>progress</th>\n",
       "      <th>update</th>\n",
       "    </tr>\n",
       "  </thead>\n",
       "  <tbody>\n",
       "    <tr>\n",
       "      <th>0</th>\n",
       "      <td>PoolWorker-1</td>\n",
       "      <td>100.00%</td>\n",
       "      <td><progress value=\"100.00\" max=\"100\"></progress></td>\n",
       "    </tr>\n",
       "    <tr>\n",
       "      <th>1</th>\n",
       "      <td>PoolWorker-2</td>\n",
       "      <td>100.00%</td>\n",
       "      <td><progress value=\"100.00\" max=\"100\"></progress></td>\n",
       "    </tr>\n",
       "    <tr>\n",
       "      <th>2</th>\n",
       "      <td>PoolWorker-3</td>\n",
       "      <td>100.00%</td>\n",
       "      <td><progress value=\"100.00\" max=\"100\"></progress></td>\n",
       "    </tr>\n",
       "    <tr>\n",
       "      <th>3</th>\n",
       "      <td>PoolWorker-4</td>\n",
       "      <td>100.00%</td>\n",
       "      <td><progress value=\"100.00\" max=\"100\"></progress></td>\n",
       "    </tr>\n",
       "  </tbody>\n",
       "</table>"
      ],
      "text/plain": [
       "<IPython.core.display.HTML object>"
      ]
     },
     "metadata": {},
     "output_type": "display_data"
    }
   ],
   "source": [
    "data.collect()"
   ]
  },
  {
   "cell_type": "markdown",
   "metadata": {},
   "source": [
    "####Results"
   ]
  },
  {
   "cell_type": "code",
   "execution_count": 8,
   "metadata": {
    "collapsed": false
   },
   "outputs": [
    {
     "data": {
      "text/plain": [
       "[Record({'a': 64, 'c': 7, 'b': 343, 'e': 6, 'd': 3, 'index_record': 0}),\n",
       "Record({'a': 0, 'c': 3, 'b': 0, 'e': 2, 'd': 3, 'index_record': 1}),\n",
       "Record({'a': 9, 'c': 6, 'b': 27, 'e': 6, 'd': 1, 'index_record': 2}),\n",
       "Record({'a': 1, 'c': 7, 'b': 343, 'e': 3, 'd': 6, 'index_record': 3}),\n",
       "Record({'a': 16, 'c': 7, 'b': 125, 'e': 3, 'd': 4, 'index_record': 4}),\n",
       "...]\n",
       "\n",
       "Collection Object with\n",
       "200000 Record Objects"
      ]
     },
     "execution_count": 8,
     "metadata": {},
     "output_type": "execute_result"
    }
   ],
   "source": [
    "data"
   ]
  }
 ],
 "metadata": {
  "kernelspec": {
   "display_name": "Python 2",
   "language": "python",
   "name": "python2"
  },
  "language_info": {
   "codemirror_mode": {
    "name": "ipython",
    "version": 2
   },
   "file_extension": ".py",
   "mimetype": "text/x-python",
   "name": "python",
   "nbconvert_exporter": "python",
   "pygments_lexer": "ipython2",
   "version": "2.7.10"
  }
 },
 "nbformat": 4,
 "nbformat_minor": 0
}
